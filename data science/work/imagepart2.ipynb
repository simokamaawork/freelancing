{
  "cells": [
    {
      "cell_type": "code",
      "execution_count": null,
      "metadata": {
        "colab": {
          "base_uri": "https://localhost:8080/"
        },
        "id": "Ft0MV-rB2CxD",
        "outputId": "a0302065-f22c-4fd2-acd7-c89de499185a"
      },
      "outputs": [
        {
          "name": "stdout",
          "output_type": "stream",
          "text": [
            "Found 800 validated image filenames belonging to 2 classes.\n",
            "Found 200 validated image filenames belonging to 2 classes.\n",
            "Epoch 1/10\n",
            "25/25 [==============================] - 25s 911ms/step - loss: 2.0372 - accuracy: 0.5337 - val_loss: 0.6522 - val_accuracy: 0.6150\n",
            "Epoch 2/10\n",
            "25/25 [==============================] - 23s 944ms/step - loss: 0.6350 - accuracy: 0.6275 - val_loss: 0.6457 - val_accuracy: 0.7950\n",
            "Epoch 3/10\n",
            "25/25 [==============================] - 22s 875ms/step - loss: 0.5869 - accuracy: 0.7075 - val_loss: 0.5036 - val_accuracy: 0.8150\n",
            "Epoch 4/10\n",
            "25/25 [==============================] - 23s 912ms/step - loss: 0.3999 - accuracy: 0.8512 - val_loss: 0.2965 - val_accuracy: 0.9050\n",
            "Epoch 5/10\n",
            "25/25 [==============================] - 22s 868ms/step - loss: 0.2304 - accuracy: 0.9300 - val_loss: 0.2151 - val_accuracy: 0.9450\n",
            "Epoch 6/10\n",
            "25/25 [==============================] - 22s 883ms/step - loss: 0.1718 - accuracy: 0.9538 - val_loss: 0.1873 - val_accuracy: 0.9350\n",
            "Epoch 7/10\n",
            "25/25 [==============================] - 29s 1s/step - loss: 0.1535 - accuracy: 0.9538 - val_loss: 0.1577 - val_accuracy: 0.9500\n",
            "Epoch 8/10\n",
            "25/25 [==============================] - 23s 946ms/step - loss: 0.1497 - accuracy: 0.9563 - val_loss: 0.1371 - val_accuracy: 0.9650\n",
            "Epoch 9/10\n",
            "25/25 [==============================] - 27s 1s/step - loss: 0.1507 - accuracy: 0.9488 - val_loss: 0.2246 - val_accuracy: 0.9100\n",
            "Epoch 10/10\n",
            "25/25 [==============================] - 24s 963ms/step - loss: 0.1454 - accuracy: 0.9625 - val_loss: 0.1545 - val_accuracy: 0.9550\n",
            "7/7 [==============================] - 2s 286ms/step - loss: 0.1392 - accuracy: 0.9600\n",
            "Test Accuracy: 0.9599999785423279\n"
          ]
        }
      ],
      "source": [
        "import pandas as pd\n",
        "from sklearn.model_selection import train_test_split\n",
        "from tensorflow.keras.preprocessing.image import ImageDataGenerator\n",
        "from tensorflow.keras.models import Sequential\n",
        "from tensorflow.keras.layers import Conv2D, MaxPooling2D, Flatten, Dense\n",
        "from google.colab import drive\n",
        "\n",
        "drive.mount=\"/content/drive/MyDrive/COMP1801_CourseworkDataset2_images\"\n",
        "\n",
        "# Load the CSV file\n",
        "csv_file_path = \"/content/drive/MyDrive/COMP1801_CourseworkDataset2_images/COMP1801_CourseworkDataset2_images_metadata.csv\"\n",
        "df = pd.read_csv(csv_file_path)\n",
        "\n",
        "# Define image directory\n",
        "image_dir = \"/content/drive/MyDrive/COMP1801_CourseworkDataset2_images\"\n",
        "\n",
        "# Split the data into training and testing sets\n",
        "train_df, test_df = train_test_split(df, test_size=0.2, random_state=42)\n",
        "\n",
        "# Create an ImageDataGenerator for data augmentation\n",
        "datagen = ImageDataGenerator(rescale=1./255, shear_range=0.2, zoom_range=0.2, horizontal_flip=True)\n",
        "\n",
        "# Create data generators\n",
        "train_generator = datagen.flow_from_dataframe(\n",
        "    dataframe=train_df,\n",
        "    directory=image_dir,\n",
        "    x_col=\"Image Filename\",\n",
        "    y_col=\"Defect\",\n",
        "    target_size=(128, 128),  # Adjust the target size based on your images\n",
        "    batch_size=32,\n",
        "    class_mode=\"binary\"  # Change to \"categorical\" if you have multiple classes\n",
        ")\n",
        "\n",
        "test_generator = datagen.flow_from_dataframe(\n",
        "    dataframe=test_df,\n",
        "    directory=image_dir,\n",
        "    x_col=\"Image Filename\",\n",
        "    y_col=\"Defect\",\n",
        "    target_size=(128, 128),\n",
        "    batch_size=32,\n",
        "    class_mode=\"binary\"\n",
        ")\n",
        "\n",
        "# Build a simple CNN model\n",
        "model = Sequential()\n",
        "model.add(Conv2D(32, (3, 3), input_shape=(128, 128, 3), activation='relu'))\n",
        "model.add(MaxPooling2D(pool_size=(2, 2)))\n",
        "model.add(Flatten())\n",
        "model.add(Dense(128, activation='relu'))\n",
        "model.add(Dense(1, activation='sigmoid'))  # Binary classification, change for multiclass\n",
        "\n",
        "# Compile the model\n",
        "model.compile(optimizer='adam', loss='binary_crossentropy', metrics=['accuracy'])\n",
        "\n",
        "# Train the model\n",
        "model.fit(train_generator, epochs=10, validation_data=test_generator)\n",
        "\n",
        "# Evaluate the model\n",
        "accuracy = model.evaluate(test_generator)[1]\n",
        "print(f\"Test Accuracy: {accuracy}\")\n"
      ]
    }
  ],
  "metadata": {
    "colab": {
      "provenance": []
    },
    "kernelspec": {
      "display_name": "Python 3",
      "name": "python3"
    },
    "language_info": {
      "name": "python"
    }
  },
  "nbformat": 4,
  "nbformat_minor": 0
}
